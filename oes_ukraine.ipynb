{
 "cells": [
  {
   "cell_type": "code",
   "execution_count": null,
   "id": "441010ca",
   "metadata": {},
   "outputs": [],
   "source": [
    "import pandas as pd\n",
    "import altair as alt"
   ]
  },
  {
   "cell_type": "code",
   "execution_count": null,
   "id": "a952de01",
   "metadata": {},
   "outputs": [],
   "source": [
    "pip install xlrd xlwt openpyxl"
   ]
  },
  {
   "cell_type": "code",
   "execution_count": null,
   "id": "0dcb395e",
   "metadata": {},
   "outputs": [],
   "source": [
    "df.columns"
   ]
  },
  {
   "cell_type": "code",
   "execution_count": null,
   "id": "447ec5e4",
   "metadata": {},
   "outputs": [],
   "source": [
    "df = pd.read_excel('2014-2020.xlsx', usecols=range(0,12) )\n",
    "df"
   ]
  },
  {
   "cell_type": "code",
   "execution_count": null,
   "id": "55b1dbe9",
   "metadata": {},
   "outputs": [],
   "source": [
    "df[['Time','Date']] = df['Час/Дата'].str.split(\"-\",expand=True)"
   ]
  },
  {
   "cell_type": "code",
   "execution_count": null,
   "id": "73afb447",
   "metadata": {},
   "outputs": [],
   "source": [
    "df[['Day']] = df['Date'].str[:5]\n",
    "df[['Year']] = df['Date'].str[6:]\n",
    "df[['Month']] = df['Date'].str[3:5]\n",
    "df"
   ]
  },
  {
   "cell_type": "code",
   "execution_count": null,
   "id": "9222f121",
   "metadata": {},
   "outputs": [],
   "source": [
    "df[['Season']] = 0\n",
    "df.loc[df['Month'].isin(['12', '01','02']), 'Season'] = 'winter'\n",
    "df.loc[df['Month'].isin(['03', '04','05']), 'Season'] = 'spring'\n",
    "df.loc[df['Month'].isin(['06', '07','08']), 'Season'] = 'summer'\n",
    "df.loc[df['Month'].isin(['09', '10','11']), 'Season'] = 'fall'\n",
    "df"
   ]
  },
  {
   "cell_type": "code",
   "execution_count": null,
   "id": "794964ad",
   "metadata": {},
   "outputs": [],
   "source": [
    "aes = df[['AES','Time','Date', 'Day', 'Year']]\n",
    "aes.loc[:, 'Name'] = \"AES\"\n",
    "aes.rename({'AES': 'All'}, axis=1,inplace=True)\n",
    "\n",
    "tec = df[['TEC','Time','Date', 'Day', 'Year']]\n",
    "tec.loc[:, 'Name'] = \"TEC\"\n",
    "tec.rename({'TEC': 'All'}, axis=1,inplace=True)           \n",
    "\n",
    "vde = df[['VDE','Time','Date', 'Day', 'Year']]\n",
    "vde.loc[:, 'Name'] = \"VDE\"\n",
    "vde.rename({'VDE': 'All'}, axis=1,inplace=True)\n",
    "           \n",
    "tes = df[['TES','Time','Date', 'Day', 'Year']]\n",
    "tes.loc[:, 'Name'] = \"TES\"\n",
    "tes.rename({'TES': 'All'}, axis=1,inplace=True)\n",
    "\n",
    "ges = df[['GES','Time','Date', 'Day', 'Year']]\n",
    "ges.loc[:, 'Name'] = \"GES\" \n",
    "ges.rename({'GES': 'All'}, axis=1,inplace=True)\n",
    "           \n",
    "gaes = df[['GAES_GEN','Time','Date', 'Day', 'Year']]\n",
    "gaes.loc[:, 'Name'] = \"GAES\"\n",
    "gaes.rename({'GAES_GEN': 'All'}, axis=1,inplace=True)\n",
    "\n",
    "electricity_df = pd.concat([aes, tec, vde, tes, ges, gaes])"
   ]
  },
  {
   "cell_type": "code",
   "execution_count": null,
   "id": "0a14c8b0",
   "metadata": {},
   "outputs": [],
   "source": [
    "alt.data_transformers.disable_max_rows()"
   ]
  },
  {
   "cell_type": "markdown",
   "id": "112715d6",
   "metadata": {},
   "source": [
    "1) Як змінювалась структура генерації електроенергії за роками?"
   ]
  },
  {
   "cell_type": "markdown",
   "id": "4b216a36",
   "metadata": {},
   "source": [
    "Я обрала Area Graph для того, щоб показати зміну структури генерації електроенергії за роками. Такий підхід дозволяє зручно візуалізувати зміну в часі та частку в цілому. Альтернативний спосіб - використати Line chart, проте таким чином, ми не зможемо проаналізувати зміни генерації електроенергії загалом.  "
   ]
  },
  {
   "cell_type": "code",
   "execution_count": null,
   "id": "17bf9b6a",
   "metadata": {},
   "outputs": [],
   "source": [
    "electricity_df"
   ]
  },
  {
   "cell_type": "code",
   "execution_count": null,
   "id": "747b9073",
   "metadata": {},
   "outputs": [],
   "source": [
    "alt.Chart(electricity_df).transform_filter(alt.FieldRangePredicate(field='Year', range=[2014, 2020])).mark_area().encode(\n",
    "    x = alt.X('Year:N'),\n",
    "    y = alt.Y('All:Q', aggregate = 'sum'),\n",
    "    color = alt.Color('Name:N'),\n",
    "    order = alt.Order('All:Q', aggregate='sum', sort = 'ascending')\n",
    ").properties(width = 950, height = 500, background = '#F9F9F9', padding = 25)"
   ]
  },
  {
   "cell_type": "markdown",
   "id": "343554b6",
   "metadata": {},
   "source": [
    "2) Як залежить споживання електроенергії від дня року та години доби?"
   ]
  },
  {
   "cell_type": "markdown",
   "id": "832e55d2",
   "metadata": {},
   "source": [
    "Для цієї задачі, я обрала Heatmap, оскільки це один з найзручніших способів показати взаємозв'язок та кореляцію між змінними. Також, це було зручним рішенням, оскільки потрібно було показати залежність і від дня року, і від години. Таким чином, колір прямокутника демонструє величину споживання, вісь x - день року, а вісь y - годину доби. Єдиним недоліком такої візуалізації є її громіздкість.   "
   ]
  },
  {
   "cell_type": "code",
   "execution_count": null,
   "id": "1108e0ff",
   "metadata": {},
   "outputs": [],
   "source": [
    "alt.Chart(df).mark_rect().encode(\n",
    "    x = alt.X('Day:N'),\n",
    "    y = alt.Y('Time:N', sort =  alt.Sort(field = 'Time', op = 'count', order = 'ascending')),\n",
    "    color = alt.Color('CONSUMPTION:Q')).properties( background = '#F9F9F9', padding = 25)"
   ]
  },
  {
   "cell_type": "markdown",
   "id": "252a43be",
   "metadata": {},
   "source": [
    "3) Як змінюється генерація електроенергії з різних джерел впродовж доби?"
   ]
  },
  {
   "cell_type": "markdown",
   "id": "4a3ab42a",
   "metadata": {},
   "source": [
    "Я обрала bar chart, щоб дати відповідь на поставлене питання. Кожен стовпчик поділений на 6 частин, кожна з яких означає певне джерело електроенергії. Перевага такого підходу у зручності та інтуїтивності считування результатів. Альтернативний спосіб - візуалізація за допомогою heatmap.   "
   ]
  },
  {
   "cell_type": "code",
   "execution_count": null,
   "id": "1ac6e91a",
   "metadata": {},
   "outputs": [],
   "source": [
    "alt.Chart(electricity_df).mark_bar().encode(\n",
    "    x = alt.X('Time:N', sort = alt.Sort(field = 'Time', op = 'count', order = 'descending')),\n",
    "    y = alt.Y('All:Q', aggregate = 'sum'),\n",
    "    color = alt.Color('Name:N'),\n",
    "    tooltip = alt.Tooltip('All:Q', aggregate = 'sum')\n",
    ").properties(width = 950, height = 500)\n"
   ]
  },
  {
   "cell_type": "code",
   "execution_count": null,
   "id": "3bea4f95",
   "metadata": {},
   "outputs": [],
   "source": [
    "df[\"Time\"]=pd.to_numeric(df[\"Time\"])"
   ]
  },
  {
   "cell_type": "markdown",
   "id": "8154b60d",
   "metadata": {},
   "source": [
    "4) Як змінюється споживання електроенергії впродовж доби у розрізі місяців року та пір року?"
   ]
  },
  {
   "cell_type": "markdown",
   "id": "9cc7abf1",
   "metadata": {},
   "source": [
    "Щоб показати зміну у розрізі місяців та пір року, я обрала варіант візуалізації Heatmap, розділений на 4 частини (= 4 пори року). В кожній секції, що означає пору року, є прямокутники, колір яких означає розмір споживання електроенергії. Перевагою цього підходу є те, що легко зрозуміти залежність такої великої кількості змінних.   "
   ]
  },
  {
   "cell_type": "code",
   "execution_count": null,
   "id": "47b3e629",
   "metadata": {},
   "outputs": [],
   "source": [
    "alt.Chart(df).mark_rect().encode(\n",
    "    x = alt.X('Month:N'),\n",
    "    y = alt.Y('Time:N',sort = alt.Sort(field = 'Time', op = 'count', order = 'ascending')),\n",
    "    color = alt.Color('CONSUMPTION:Q')).properties(width = 750/2, height = 500/2).facet(facet = alt.Facet('Season:N'), columns = 2)"
   ]
  },
  {
   "cell_type": "markdown",
   "id": "968bc12c",
   "metadata": {},
   "source": [
    "5) Як змінюється споживання електроенергії впродовж тижня?"
   ]
  },
  {
   "cell_type": "markdown",
   "id": "b600fe20",
   "metadata": {},
   "source": [
    "Для відповіді на це питання, я обрала bar chart, кожен стовпець означає день тижня. Перевагою цього способу є зручність візуального сприйняття зміни в часті. Альтернативний варіант -  line chart або area graph, проте у цьому випадку нетак легко прослідковувалась зміна по днях. "
   ]
  },
  {
   "cell_type": "code",
   "execution_count": null,
   "id": "ea7c114f",
   "metadata": {},
   "outputs": [],
   "source": [
    "weekday = pd.DatetimeIndex(list(df['Date']))\n",
    "df[['DayName']] = weekday.day_name()\n",
    "df"
   ]
  },
  {
   "cell_type": "code",
   "execution_count": null,
   "id": "07c9387d",
   "metadata": {
    "scrolled": true
   },
   "outputs": [],
   "source": [
    "alt.Chart(df).mark_bar().encode(\n",
    "    x = alt.X('DayName:N', sort = alt.Sort(field = 'CONSUMPTION', op = 'mean', order = 'ascending')),\n",
    "    y = alt.Y('CONSUMPTION:Q', aggregate = 'mean'),\n",
    "    tooltip = alt.Tooltip('CONSUMPTION:Q',aggregate = 'mean')\n",
    ").properties(width = 950, height = 500)"
   ]
  }
 ],
 "metadata": {
  "kernelspec": {
   "display_name": "Python 3 (ipykernel)",
   "language": "python",
   "name": "python3"
  },
  "language_info": {
   "codemirror_mode": {
    "name": "ipython",
    "version": 3
   },
   "file_extension": ".py",
   "mimetype": "text/x-python",
   "name": "python",
   "nbconvert_exporter": "python",
   "pygments_lexer": "ipython3",
   "version": "3.9.2"
  }
 },
 "nbformat": 4,
 "nbformat_minor": 5
}
